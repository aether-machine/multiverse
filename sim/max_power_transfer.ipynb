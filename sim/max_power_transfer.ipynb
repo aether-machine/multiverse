{
 "cells": [
  {
   "cell_type": "markdown",
   "metadata": {},
   "source": [
    "# Maximum Power Transfer Theorem — Multiverse Analogy\n",
    "\n",
    "This notebook explores how the Maximum Power Transfer Theorem can be interpreted as a principle for life and coherence in the multiverse.\n",
    "\n",
    "In classical circuits: maximum power transfer occurs when **load resistance = source resistance**.\n",
    "\n",
    "Here, we extend that analogy to the idea of coupling a 'life signal' (source) into material coherence (load)."
   ]
  },
  {
   "cell_type": "code",
   "execution_count": null,
   "metadata": {},
   "outputs": [],
   "source": [
    "import numpy as np\n",
    "import matplotlib.pyplot as plt\n",
    "from ipywidgets import interact\n",
    "\n",
    "# Define source parameters\n",
    "Vs = 1.0  # Source voltage (normalized life-signal amplitude)\n",
    "Rs = 1.0  # Source resistance (bias / impedance of universe)\n",
    "\n",
    "def power_transfer(RL, Vs=1.0, Rs=1.0):\n",
    "    # Power delivered to load\n",
    "    return (Vs**2 * RL) / (Rs + RL)**2\n",
    "\n",
    "# Sweep load resistances\n",
    "RLs = np.linspace(0.01, 10, 500)\n",
    "P = power_transfer(RLs, Vs, Rs)\n",
    "\n",
    "plt.plot(RLs, P)\n",
    "plt.axvline(Rs, color='r', linestyle='--', label='RL = Rs (max transfer)')\n",
    "plt.xlabel('Load Resistance (RL)')\n",
    "plt.ylabel('Power Delivered')\n",
    "plt.title('Maximum Power Transfer — Classical Circuit')\n",
    "plt.legend()\n",
    "plt.show()"
   ]
  },
  {
   "cell_type": "markdown",
   "metadata": {},
   "source": [
    "## Interactive Exploration\n",
    "Try changing the source resistance (bias) and source voltage (life signal amplitude) to see how the power transfer shifts."
   ]
  },
  {
   "cell_type": "code",
   "execution_count": null,
   "metadata": {},
   "outputs": [],
   "source": [
    "@interact(Rs=(0.1, 5.0, 0.1), Vs=(0.1, 2.0, 0.1))\n",
    "def update(Rs=1.0, Vs=1.0):\n",
    "    RLs = np.linspace(0.01, 10, 500)\n",
    "    P = power_transfer(RLs, Vs, Rs)\n",
    "    plt.figure(figsize=(6,4))\n",
    "    plt.plot(RLs, P, label=f'Vs={Vs}, Rs={Rs}')\n",
    "    plt.axvline(Rs, color='r', linestyle='--', label='RL = Rs (max)')\n",
    "    plt.xlabel('Load Resistance (RL)')\n",
    "    plt.ylabel('Power Delivered')\n",
    "    plt.title('Interactive Power Transfer')\n",
    "    plt.legend()\n",
    "    plt.show()"
   ]
  },
  {
   "cell_type": "markdown",
   "metadata": {},
   "source": [
    "## Interpretation for Multiverse Theory\n",
    "- **Source resistance (Rs):** Bias/impedance of the hosting universe.\n",
    "- **Load resistance (RL):** Local structure (planet, biosphere, organism).\n",
    "- **Power delivered:** Coherence of the life signal that can sustain complexity.\n",
    "\n",
    "Maximum life/complexity arises when **RL = Rs** — i.e. when the organism/structure is matched to the bias of its universe.\n",
    "\n",
    "This extends the circuit theorem into a speculative physics principle: \n",
    "life flourishes where resistance is matched to the universe’s impedance profile."
   ]
  }
 ],
 "metadata": {
  "kernelspec": {
   "display_name": "Python 3",
   "language": "python",
   "name": "python3"
  },
  "language_info": {
   "name": "python",
   "version": "3.x"
  }
 },
 "nbformat": 4,
 "nbformat_minor": 5
}
