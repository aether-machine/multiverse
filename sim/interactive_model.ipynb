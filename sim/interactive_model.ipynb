{
 "cells": [
  {
   "cell_type": "markdown",
   "metadata": {},
   "source": [
    "# Interactive Multiverse Oscillator Model\n",
    "\n",
    "This notebook lets you explore the toy model where universes are coupled like oscillators,\n",
    "with black-hole-like junctions acting as diode thresholds.\n",
    "\n",
    "Adjust the parameters below to see how coherence reinforcement emerges."
   ]
  },
  {
   "cell_type": "code",
   "execution_count": null,
   "metadata": {},
   "outputs": [],
   "source": [
    "import numpy as np\n",
    "import matplotlib.pyplot as plt\n",
    "from ipywidgets import interact, FloatSlider\n",
    "from scipy.integrate import solve_ivp\n",
    "\n",
    "def multiverse_model(t, y, omega, lam, C, threshold):\n",
    "    # y = [Re1, Im1, Re2, Im2, Re3, Im3]\n",
    "    dydt = []\n",
    "    for i in range(3):\n",
    "        Re, Im = y[2*i], y[2*i+1]\n",
    "        z = Re + 1j*Im\n",
    "        # Stuart-Landau dynamics with coupling\n",
    "        dzdt = (lam[i] + 1j*omega[i])*z - (abs(z)**2)*z\n",
    "        # Coupling from neighbors\n",
    "        for j in range(3):\n",
    "            if j != i:\n",
    "                coupling = C * (y[2*j] + 1j*y[2*j+1] - z)\n",
    "                # diode-like gating\n",
    "                if abs(coupling) > threshold:\n",
    "                    dzdt += coupling\n",
    "        dydt.extend([dzdt.real, dzdt.imag])\n",
    "    return dydt\n",
    "\n",
    "def run_simulation(C=0.1, threshold=0.2, w1=1.0, w2=1.05, w3=0.95, l1=0.1, l2=0.1, l3=0.1):\n",
    "    omega = [w1, w2, w3]\n",
    "    lam = [l1, l2, l3]\n",
    "    y0 = [1, 0, 0.5, 0.1, 0.2, -0.2]  # initial conditions\n",
    "    t_span = (0, 100)\n",
    "    t_eval = np.linspace(*t_span, 1000)\n",
    "    sol = solve_ivp(multiverse_model, t_span, y0, t_eval=t_eval, args=(omega, lam, C, threshold))\n",
    "\n",
    "    plt.figure(figsize=(10,5))\n",
    "    for i in range(3):\n",
    "        Re, Im = sol.y[2*i], sol.y[2*i+1]\n",
    "        amp = np.sqrt(Re**2 + Im**2)\n",
    "        plt.plot(sol.t, amp, label=f'Oscillator {i+1}')\n",
    "    plt.xlabel('Time')\n",
    "    plt.ylabel('Amplitude (|z|)')\n",
    "    plt.legend()\n",
    "    plt.title('Coherence Reinforcement Across Universes')\n",
    "    plt.show()\n",
    "\n",
    "interact(run_simulation,\n",
    "         C=FloatSlider(min=0, max=1, step=0.05, value=0.1),\n",
    "         threshold=FloatSlider(min=0, max=1, step=0.05, value=0.2),\n",
    "         w1=FloatSlider(min=0.5, max=1.5, step=0.05, value=1.0),\n",
    "         w2=FloatSlider(min=0.5, max=1.5, step=0.05, value=1.05),\n",
    "         w3=FloatSlider(min=0.5, max=1.5, step=0.05, value=0.95),\n",
    "         l1=FloatSlider(min=0, max=0.5, step=0.05, value=0.1),\n",
    "         l2=FloatSlider(min=0, max=0.5, step=0.05, value=0.1),\n",
    "         l3=FloatSlider(min=0, max=0.5, step=0.05, value=0.1))"
   ]
  }
 ],
 "metadata": {
  "kernelspec": {
   "display_name": "Python 3",
   "language": "python",
   "name": "python3"
  },
  "language_info": {
   "name": "python",
   "version": "3.10"
  }
 },
 "nbformat": 4,
 "nbformat_minor": 5
}
